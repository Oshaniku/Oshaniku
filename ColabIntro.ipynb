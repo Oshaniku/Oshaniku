{
  "nbformat": 4,
  "nbformat_minor": 0,
  "metadata": {
    "colab": {
      "provenance": [],
      "authorship_tag": "ABX9TyOp+vTOo676SSKVzccGugRk",
      "include_colab_link": true
    },
    "kernelspec": {
      "name": "python3",
      "display_name": "Python 3"
    },
    "language_info": {
      "name": "python"
    }
  },
  "cells": [
    {
      "cell_type": "markdown",
      "metadata": {
        "id": "view-in-github",
        "colab_type": "text"
      },
      "source": [
        "<a href=\"https://colab.research.google.com/github/Oshaniku/Oshaniku/blob/main/ColabIntro.ipynb\" target=\"_parent\"><img src=\"https://colab.research.google.com/assets/colab-badge.svg\" alt=\"Open In Colab\"/></a>"
      ]
    },
    {
      "cell_type": "code",
      "execution_count": 1,
      "metadata": {
        "colab": {
          "base_uri": "https://localhost:8080/"
        },
        "id": "DYE1lyN_UluJ",
        "outputId": "506c7eaf-63f5-450c-e27d-66aae21aa19d"
      },
      "outputs": [
        {
          "output_type": "stream",
          "name": "stdout",
          "text": [
            "Mounted at /content/drive\n"
          ]
        }
      ],
      "source": [
        "from google.colab import drive\n",
        "drive.mount(\"/content/drive\")"
      ]
    },
    {
      "cell_type": "code",
      "source": [
        "! ls /content/drive/MyDrive/"
      ],
      "metadata": {
        "colab": {
          "base_uri": "https://localhost:8080/"
        },
        "id": "BmxfvQMtXaJw",
        "outputId": "53c9dabd-7e02-4ff2-dc77-a0f3c7876136"
      },
      "execution_count": 4,
      "outputs": [
        {
          "output_type": "stream",
          "name": "stdout",
          "text": [
            "'Assignment BSCWD234015'\n",
            " AssignmentFinal.pdf\n",
            "'BIO DATA rasika.docx'\n",
            " Classroom\n",
            "'Colab Notebooks'\n",
            " Contacts.vcf\n",
            "'Cyber Bullying.mp4'\n",
            " DOC-20250618-WA0027..pdf\n",
            " Doing.docx\n",
            "'Efficacy of Data Privacy Policies in Safeguarding Personal Information : A Case Study Analysis in the IT Field.  .gform'\n",
            "'Efficacy of Data Privacy Policies in Safeguarding Personal Information : A Case Study Analysis in the IT Field.   (Responses).gsheet'\n",
            "'GRAPHICS PORTFOLIO EVALUTION.ppsx'\n",
            " IMG-20210714-WA0100.jpg\n",
            " IMG-20210715-WA0062.jpg\n",
            " IMG-20210715-WA0077.jpg\n",
            " IMG-20210716-WA0009.jpg\n",
            " IMG-20250618-WA0005.jpg\n",
            " IMG_9434.JPG\n",
            "'Mahamaya Girls _ word doc. sliit original.docx'\n",
            "'Maths 1.gdoc'\n",
            "'Maths 1.pdf'\n",
            "'Model Paper-1.pdf'\n",
            "'My account info.zip'\n",
            "'Oshani Kumarihami.vcf'\n",
            " OSS\n",
            " PTT-20210716-WA0000.opus\n",
            " PTT-20210717-WA0037.opus\n",
            "'Questionnaire on Gender Equality in SL.gform'\n",
            "'Question Paper - CAIT FINAL ASSESSMENT 2022.pdf'\n",
            "'Resume (1).gdoc'\n",
            " Resume.gdoc\n",
            " SimpleInventorySystem-PHP\n",
            " STK-20210525-WA0010.webp\n",
            " STK-20210525-WA0074.webp\n",
            " STK-20210526-WA0038.webp\n",
            " STK-20210528-WA0031.webp\n",
            " STK-20210529-WA0013.webp\n",
            " STK-20210531-WA0078.webp\n",
            " STK-20210531-WA0093.webp\n",
            " STK-20210601-WA0046.webp\n",
            " STK-20210601-WA0058.webp\n",
            " STK-20210603-WA0018.webp\n",
            " STK-20210604-WA0012.webp\n",
            " STK-20210610-WA0125.webp\n",
            " STK-20210613-WA0008.webp\n",
            " STK-20210617-WA0014.webp\n",
            " STK-20210617-WA0107.webp\n",
            " STK-20210618-WA0027.webp\n",
            " STK-20210618-WA0037.webp\n",
            " STK-20210619-WA0022.webp\n",
            " STK-20210619-WA0030.webp\n",
            " STK-20210623-WA0020.webp\n",
            " STK-20210702-WA0006.webp\n",
            " STK-20210702-WA0062.webp\n",
            " STK-20210706-WA0047.webp\n",
            " STK-20210709-WA0028.webp\n",
            " STK-20210713-WA0005.webp\n",
            " STK-20210713-WA0062.webp\n",
            " STK-20210714-WA0008.webp\n",
            " STK-20210714-WA0041.webp\n",
            " STK-20210715-WA0035.webp\n",
            " STK-20210716-WA0080.webp\n",
            " STK-20210717-WA0050.webp\n",
            "'TT BSC 2024 I.gdoc'\n",
            "'Untitled form (1).gform'\n",
            "'Untitled form.gform'\n",
            " VID-20210715-WA0071.mp4\n",
            " VID-20210717-WA0045.mp4\n",
            " VID-20210717-WA0048.mp4\n",
            "'WhatsApp Chat with Ex'\n"
          ]
        }
      ]
    },
    {
      "cell_type": "code",
      "source": [
        "import pandas as pd\n",
        "df=pd.read_csv(\"/content/drive/MyDrive/Churn_Modelling.csv\").head()"
      ],
      "metadata": {
        "id": "xCYN7mPcX9JS"
      },
      "execution_count": 9,
      "outputs": []
    },
    {
      "cell_type": "code",
      "source": [
        "print(df)"
      ],
      "metadata": {
        "colab": {
          "base_uri": "https://localhost:8080/"
        },
        "id": "3rV9h7TgaWmI",
        "outputId": "574f4839-8f65-40ea-a017-8bbed3177c11"
      },
      "execution_count": 10,
      "outputs": [
        {
          "output_type": "stream",
          "name": "stdout",
          "text": [
            "   RowNumber  CustomerId   Surname  CreditScore Geography  Gender  Age  \\\n",
            "0          1    15634602  Hargrave          619    France  Female   42   \n",
            "1          2    15647311      Hill          608     Spain  Female   41   \n",
            "2          3    15619304      Onio          502    France  Female   42   \n",
            "3          4    15701354      Boni          699    France  Female   39   \n",
            "4          5    15737888  Mitchell          850     Spain  Female   43   \n",
            "\n",
            "   Tenure    Balance  NumOfProducts  HasCrCard  IsActiveMember  \\\n",
            "0       2       0.00              1          1               1   \n",
            "1       1   83807.86              1          0               1   \n",
            "2       8  159660.80              3          1               0   \n",
            "3       1       0.00              2          0               0   \n",
            "4       2  125510.82              1          1               1   \n",
            "\n",
            "   EstimatedSalary  Exited  \n",
            "0        101348.88       1  \n",
            "1        112542.58       0  \n",
            "2        113931.57       1  \n",
            "3         93826.63       0  \n",
            "4         79084.10       0  \n"
          ]
        }
      ]
    }
  ]
}